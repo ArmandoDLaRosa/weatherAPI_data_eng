{
 "cells": [
  {
   "cell_type": "markdown",
   "metadata": {},
   "source": [
    "# Weather Data"
   ]
  },
  {
   "cell_type": "markdown",
   "metadata": {},
   "source": [
    "## Loading Env Variables"
   ]
  },
  {
   "cell_type": "code",
   "execution_count": 64,
   "metadata": {},
   "outputs": [],
   "source": [
    "from configparser import ConfigParser\n",
    "job_name = 'influx viz'\n",
    "path = '/home/armando/Github Repos/weatherAPI_data_eng/src/'\n",
    "\n",
    "config_object = ConfigParser(interpolation = None)\n",
    "config_object.read(path + 'config.ini')\n",
    "\n",
    "influx_db = config_object['DATABASE']    \n",
    "my_token = influx_db['token']\n",
    "my_org = influx_db['organization']\n",
    "my_agg = influx_db['agg_bucket']"
   ]
  },
  {
   "cell_type": "markdown",
   "metadata": {},
   "source": [
    "## Loading the aggregations"
   ]
  },
  {
   "cell_type": "code",
   "execution_count": 65,
   "metadata": {},
   "outputs": [],
   "source": [
    "from influxdb_client import InfluxDBClient\n",
    "\n",
    "with InfluxDBClient(url='https://us-east-1-1.aws.cloud2.influxdata.com', token=my_token, org=my_org) as client:\n",
    "        # start 0, brings all available data\n",
    "        # pivot, structures the influx tables into a single df\n",
    "        # measurement filter, so that when I add new measures this job isn't affected    \n",
    "        q = f\"\"\" from(bucket:\"{my_agg}\") \n",
    "                |> range(start:0)\n",
    "                |> filter(fn: (r) => r[\"_measurement\"] == \"weather_aggregations\")\n",
    "                |> pivot(rowKey:[\"_time\"], columnKey: [\"_field\"], valueColumn: \"_value\") \"\"\"\n",
    "        df_query = client.query_api().query_data_frame(q)\n",
    "        df_query.drop([\"table\", \"result\", \"_start\", \"_stop\", \"_measurement\"], inplace=True, axis=1)\n",
    "        client.close()"
   ]
  },
  {
   "cell_type": "code",
   "execution_count": 66,
   "metadata": {},
   "outputs": [
    {
     "name": "stdout",
     "output_type": "stream",
     "text": [
      "                        _time   agg       city country weather_class  \\\n",
      "317 2022-04-15 12:00:00+00:00  mean  Monterrey      MX        Clouds   \n",
      "316 2022-04-15 00:00:00+00:00  mean  Monterrey      MX        Clouds   \n",
      "\n",
      "    window_time  cloudiness   humidity     pressure  sensation  temperature  \\\n",
      "317         12H   99.947368  74.105263  1011.842105  23.285789    22.694211   \n",
      "316         12H  100.000000  69.727273  1010.454545  21.303636    21.299091   \n",
      "\n",
      "     visibility  \n",
      "317     10000.0  \n",
      "316     10000.0  \n"
     ]
    }
   ],
   "source": [
    "df_query = df_query.sort_values(by=['_time'], ascending=False)\n",
    "\n",
    "print(df_query[(df_query[\"city\"] == \"Monterrey\") & (df_query[\"window_time\"] == \"12H\") & (df_query[\"agg\"] == \"mean\")].head())"
   ]
  },
  {
   "cell_type": "code",
   "execution_count": 67,
   "metadata": {},
   "outputs": [
    {
     "name": "stdout",
     "output_type": "stream",
     "text": [
      "                            agg       city country weather_class window_time  \\\n",
      "_time                                                                          \n",
      "2022-04-14 19:00:00-05:00  mean  Monterrey      MX        Clouds         12H   \n",
      "2022-04-15 07:00:00-05:00  mean  Monterrey      MX        Clouds         12H   \n",
      "\n",
      "                           cloudiness   humidity     pressure  sensation  \\\n",
      "_time                                                                      \n",
      "2022-04-14 19:00:00-05:00  100.000000  69.727273  1010.454545  21.303636   \n",
      "2022-04-15 07:00:00-05:00   99.947368  74.105263  1011.842105  23.285789   \n",
      "\n",
      "                           temperature  visibility  \n",
      "_time                                               \n",
      "2022-04-14 19:00:00-05:00    21.299091     10000.0  \n",
      "2022-04-15 07:00:00-05:00    22.694211     10000.0  \n"
     ]
    }
   ],
   "source": [
    "\n",
    "timezones = {\"Monterrey\":\"America/Mexico_City\", \n",
    "             \"Boston\": \"America/NewYork\", \n",
    "             \"Saltillo\":\"America/Monterrey\", \n",
    "             \"Guadalajara\":\"America/Monterrey\", \n",
    "             \"Mexico City\":\"America/Monterrey\"}\n",
    "\n",
    "city = \"Monterrey\"\n",
    "df_query.set_index(\"_time\", inplace=True)\n",
    "df_query.sort_index(inplace = True)\n",
    "df_query.index = df_query.index.tz_convert(timezones[city])\n",
    "\n",
    "print(df_query[(df_query[\"city\"] == \"Monterrey\") & (df_query[\"window_time\"] == \"12H\") & (df_query[\"agg\"] == \"mean\")].head())"
   ]
  },
  {
   "cell_type": "markdown",
   "metadata": {},
   "source": [
    "### Seaborn / Streamlit"
   ]
  }
 ],
 "metadata": {
  "interpreter": {
   "hash": "7161aa8dad4015c9bcdcace9221a680f8977275654e62c8a9d7332bb26badab3"
  },
  "kernelspec": {
   "display_name": "Python 3.8.10 ('open_weather_project_env': venv)",
   "language": "python",
   "name": "python3"
  },
  "language_info": {
   "codemirror_mode": {
    "name": "ipython",
    "version": 3
   },
   "file_extension": ".py",
   "mimetype": "text/x-python",
   "name": "python",
   "nbconvert_exporter": "python",
   "pygments_lexer": "ipython3",
   "version": "3.8.10"
  },
  "orig_nbformat": 4
 },
 "nbformat": 4,
 "nbformat_minor": 2
}
